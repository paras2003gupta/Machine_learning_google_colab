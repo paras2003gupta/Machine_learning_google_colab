{
  "nbformat": 4,
  "nbformat_minor": 0,
  "metadata": {
    "colab": {
      "provenance": [],
      "authorship_tag": "ABX9TyMk3XS75fiwTr6gfMNN7dLk",
      "include_colab_link": true
    },
    "kernelspec": {
      "name": "python3",
      "display_name": "Python 3"
    },
    "language_info": {
      "name": "python"
    }
  },
  "cells": [
    {
      "cell_type": "markdown",
      "metadata": {
        "id": "view-in-github",
        "colab_type": "text"
      },
      "source": [
        "<a href=\"https://colab.research.google.com/github/paras2003gupta/Machine_learning_google_colab/blob/main/Jovian1(NUMPY).ipynb\" target=\"_parent\"><img src=\"https://colab.research.google.com/assets/colab-badge.svg\" alt=\"Open In Colab\"/></a>"
      ]
    },
    {
      "cell_type": "code",
      "execution_count": null,
      "metadata": {
        "id": "K74f_wzGBI8f"
      },
      "outputs": [],
      "source": [
        "import numpy as np"
      ]
    },
    {
      "cell_type": "code",
      "source": [
        "#we have climate data and we have to predict growth of apple in that area.\n",
        "#yeild_of_apple= w1*temp+w2*rainfall+w3*humidity\n",
        "w1,w2,w3 = 0.3,0.2,0.5\n",
        "kento_temp = 73\n",
        "kento_rainfall = 67\n",
        "kento_humidity = 43\n",
        "kento_yield_of_apple = w1*kento_temp+w2*kento_rainfall+w3*kento_humidity\n",
        "print(\"The expected value og yeild of appleas are {} tons per hectare\".format(kento_yield_of_apple))"
      ],
      "metadata": {
        "colab": {
          "base_uri": "https://localhost:8080/"
        },
        "id": "gWCkB0epBzfa",
        "outputId": "66bd3a58-f219-4872-fb20-1b96b6d7c6fe"
      },
      "execution_count": null,
      "outputs": [
        {
          "output_type": "stream",
          "name": "stdout",
          "text": [
            "The expected value og yeild of appleas are 56.8 tons per hectare\n"
          ]
        }
      ]
    },
    {
      "cell_type": "code",
      "source": [
        "kanto = [73, 67, 43]\n",
        "johto = [91, 88, 64]\n",
        "hoenn = [87, 134, 58]\n",
        "sinnoh = [102, 43, 37]\n",
        "unova = [69, 96, 70]"
      ],
      "metadata": {
        "id": "QDi888WzCr2l"
      },
      "execution_count": null,
      "outputs": []
    },
    {
      "cell_type": "code",
      "source": [
        "weights = [w1,w2,w3]\n",
        "def crop_yeild(region,weights):\n",
        "    result = 0\n",
        "    for x,w in zip(region,weights):\n",
        "        result += x*w\n",
        "\n",
        "    return result"
      ],
      "metadata": {
        "id": "m3lsmQ_sDvwz"
      },
      "execution_count": null,
      "outputs": []
    },
    {
      "cell_type": "code",
      "source": [
        "crop_yeild(kanto,weights)\n"
      ],
      "metadata": {
        "colab": {
          "base_uri": "https://localhost:8080/"
        },
        "id": "_V0l9rNcFr2V",
        "outputId": "1e799b4a-7b65-47c8-8ace-3e7b1abd6f37"
      },
      "execution_count": null,
      "outputs": [
        {
          "output_type": "execute_result",
          "data": {
            "text/plain": [
              "56.8"
            ]
          },
          "metadata": {},
          "execution_count": 10
        }
      ]
    },
    {
      "cell_type": "code",
      "source": [
        "crop_yeild(hoenn,weights)"
      ],
      "metadata": {
        "colab": {
          "base_uri": "https://localhost:8080/"
        },
        "id": "lgdoMvuwFwgX",
        "outputId": "5f5ae900-c657-4397-8b51-c84ad5fffb50"
      },
      "execution_count": null,
      "outputs": [
        {
          "output_type": "execute_result",
          "data": {
            "text/plain": [
              "81.9"
            ]
          },
          "metadata": {},
          "execution_count": 11
        }
      ]
    },
    {
      "cell_type": "code",
      "source": [
        "#Now Using NUMPY and convert list to numpy\n",
        "kanto = np.array(kanto)\n",
        "weights = np.array(weights)\n",
        "kanto, weights"
      ],
      "metadata": {
        "colab": {
          "base_uri": "https://localhost:8080/"
        },
        "id": "BfLxA9bVF0bo",
        "outputId": "e9bf5b28-9eb6-4625-bcb5-176c3a44f050"
      },
      "execution_count": null,
      "outputs": [
        {
          "output_type": "execute_result",
          "data": {
            "text/plain": [
              "(array([73, 67, 43]), array([0.3, 0.2, 0.5]))"
            ]
          },
          "metadata": {},
          "execution_count": 12
        }
      ]
    },
    {
      "cell_type": "code",
      "source": [
        "#used to apply dot product\n",
        "ans = np.dot(kanto,weights)\n",
        "print(ans)\n",
        "type(weights)"
      ],
      "metadata": {
        "colab": {
          "base_uri": "https://localhost:8080/"
        },
        "id": "MoeZMvt8GRR_",
        "outputId": "9dbb52f6-eb2e-4ada-ca57-66c80b150670"
      },
      "execution_count": null,
      "outputs": [
        {
          "output_type": "stream",
          "name": "stdout",
          "text": [
            "56.8\n"
          ]
        },
        {
          "output_type": "execute_result",
          "data": {
            "text/plain": [
              "numpy.ndarray"
            ]
          },
          "metadata": {},
          "execution_count": 13
        }
      ]
    },
    {
      "cell_type": "code",
      "source": [
        "(kanto * weights).sum()"
      ],
      "metadata": {
        "colab": {
          "base_uri": "https://localhost:8080/"
        },
        "id": "Ng0WTuhJHlYu",
        "outputId": "6e96804a-b93c-42c0-df16-106cc49268e6"
      },
      "execution_count": null,
      "outputs": [
        {
          "output_type": "execute_result",
          "data": {
            "text/plain": [
              "56.8"
            ]
          },
          "metadata": {},
          "execution_count": 14
        }
      ]
    },
    {
      "cell_type": "code",
      "source": [
        "arr1 = list(range(1000000))\n",
        "arr2 = list(range(1000000,2000000))\n",
        "#numpy arrays\n",
        "arr1_np = np.array(arr1)\n",
        "arr2_np = np.array(arr2)"
      ],
      "metadata": {
        "id": "USp3XeP2H3en"
      },
      "execution_count": null,
      "outputs": []
    },
    {
      "cell_type": "code",
      "source": [
        "%%time\n",
        "result = 0\n",
        "for x1,x2 in zip(arr1,arr2):\n",
        "    result += x1*x2\n",
        "result"
      ],
      "metadata": {
        "colab": {
          "base_uri": "https://localhost:8080/"
        },
        "id": "nLxIUNGOIRh_",
        "outputId": "2f6c1c4d-b134-46ab-ff87-99e81dbe768d"
      },
      "execution_count": null,
      "outputs": [
        {
          "output_type": "stream",
          "name": "stdout",
          "text": [
            "CPU times: user 212 ms, sys: 1.88 ms, total: 214 ms\n",
            "Wall time: 214 ms\n"
          ]
        },
        {
          "output_type": "execute_result",
          "data": {
            "text/plain": [
              "833332333333500000"
            ]
          },
          "metadata": {},
          "execution_count": 16
        }
      ]
    },
    {
      "cell_type": "code",
      "source": [
        "%%time\n",
        "np.dot(arr1_np,arr2_np)"
      ],
      "metadata": {
        "colab": {
          "base_uri": "https://localhost:8080/"
        },
        "id": "w5bA3LQGIV0_",
        "outputId": "205a3a15-7484-4327-bc85-2e39e81f8aaf"
      },
      "execution_count": null,
      "outputs": [
        {
          "output_type": "stream",
          "name": "stdout",
          "text": [
            "CPU times: user 3.08 ms, sys: 12 µs, total: 3.09 ms\n",
            "Wall time: 3.63 ms\n"
          ]
        },
        {
          "output_type": "execute_result",
          "data": {
            "text/plain": [
              "833332333333500000"
            ]
          },
          "metadata": {},
          "execution_count": 17
        }
      ]
    },
    {
      "cell_type": "code",
      "source": [
        "!pip install jovian\n"
      ],
      "metadata": {
        "colab": {
          "base_uri": "https://localhost:8080/"
        },
        "id": "GDYVXE1KIc-W",
        "outputId": "0d178b76-1462-48f1-a678-5fef9c2b0e01"
      },
      "execution_count": null,
      "outputs": [
        {
          "output_type": "stream",
          "name": "stdout",
          "text": [
            "Requirement already satisfied: jovian in /usr/local/lib/python3.10/dist-packages (0.2.47)\n",
            "Requirement already satisfied: requests in /usr/local/lib/python3.10/dist-packages (from jovian) (2.32.3)\n",
            "Requirement already satisfied: uuid in /usr/local/lib/python3.10/dist-packages (from jovian) (1.30)\n",
            "Requirement already satisfied: pyyaml in /usr/local/lib/python3.10/dist-packages (from jovian) (6.0.2)\n",
            "Requirement already satisfied: click in /usr/local/lib/python3.10/dist-packages (from jovian) (8.1.7)\n",
            "Requirement already satisfied: charset-normalizer<4,>=2 in /usr/local/lib/python3.10/dist-packages (from requests->jovian) (3.4.0)\n",
            "Requirement already satisfied: idna<4,>=2.5 in /usr/local/lib/python3.10/dist-packages (from requests->jovian) (3.10)\n",
            "Requirement already satisfied: urllib3<3,>=1.21.1 in /usr/local/lib/python3.10/dist-packages (from requests->jovian) (2.2.3)\n",
            "Requirement already satisfied: certifi>=2017.4.17 in /usr/local/lib/python3.10/dist-packages (from requests->jovian) (2024.8.30)\n"
          ]
        }
      ]
    },
    {
      "cell_type": "code",
      "source": [
        "import jovian"
      ],
      "metadata": {
        "id": "SDuXtLMQIy4-"
      },
      "execution_count": null,
      "outputs": []
    },
    {
      "cell_type": "code",
      "source": [
        "jovian.commit(projext = 'numpy-live')"
      ],
      "metadata": {
        "colab": {
          "base_uri": "https://localhost:8080/"
        },
        "id": "gdndaG-cI7yQ",
        "outputId": "27b06b18-1d69-4bc8-e176-bce40f7b1445"
      },
      "execution_count": null,
      "outputs": [
        {
          "output_type": "stream",
          "name": "stdout",
          "text": [
            "[jovian] Detected Colab notebook...\u001b[0m\n",
            "[jovian] jovian.commit() is no longer required on Google Colab. If you ran this notebook from Jovian, \n",
            "then just save this file in Colab using Ctrl+S/Cmd+S and it will be updated on Jovian. \n",
            "Also, you can also delete this cell, it's no longer necessary.\u001b[0m\n"
          ]
        }
      ]
    },
    {
      "cell_type": "code",
      "source": [
        "#multi-dimensional array\n",
        "climate_data = np.array([\n",
        "    [73,67,43],\n",
        "    [91,88,64],\n",
        "    [87,134,58],\n",
        "    [102,43,37],\n",
        "    [69,96,70]\n",
        "])"
      ],
      "metadata": {
        "id": "2OW9ZooLJXOb"
      },
      "execution_count": null,
      "outputs": []
    },
    {
      "cell_type": "code",
      "source": [
        "climate_data"
      ],
      "metadata": {
        "colab": {
          "base_uri": "https://localhost:8080/"
        },
        "id": "jTBp2P0GJpoH",
        "outputId": "c7531125-1c93-4026-d25b-10cca58a8653"
      },
      "execution_count": null,
      "outputs": [
        {
          "output_type": "execute_result",
          "data": {
            "text/plain": [
              "array([[ 73,  67,  43],\n",
              "       [ 91,  88,  64],\n",
              "       [ 87, 134,  58],\n",
              "       [102,  43,  37],\n",
              "       [ 69,  96,  70]])"
            ]
          },
          "metadata": {},
          "execution_count": 23
        }
      ]
    },
    {
      "cell_type": "code",
      "source": [
        "climate_data.shape"
      ],
      "metadata": {
        "colab": {
          "base_uri": "https://localhost:8080/"
        },
        "id": "vKcJA4OYJ0R8",
        "outputId": "cc7398db-5a88-4615-9249-147bbb7c4743"
      },
      "execution_count": null,
      "outputs": [
        {
          "output_type": "execute_result",
          "data": {
            "text/plain": [
              "(5, 3)"
            ]
          },
          "metadata": {},
          "execution_count": 24
        }
      ]
    },
    {
      "cell_type": "code",
      "source": [
        "weights"
      ],
      "metadata": {
        "colab": {
          "base_uri": "https://localhost:8080/"
        },
        "id": "I9ypR1gRJ_vx",
        "outputId": "95b28aa7-2175-4592-a6d4-ae7c10907a24"
      },
      "execution_count": null,
      "outputs": [
        {
          "output_type": "execute_result",
          "data": {
            "text/plain": [
              "array([0.3, 0.2, 0.5])"
            ]
          },
          "metadata": {},
          "execution_count": 25
        }
      ]
    },
    {
      "cell_type": "code",
      "source": [
        "weights.shape"
      ],
      "metadata": {
        "colab": {
          "base_uri": "https://localhost:8080/"
        },
        "id": "15ZjOnzNKA5T",
        "outputId": "6f172a45-5df7-49cd-d7f6-5fc543a545fd"
      },
      "execution_count": null,
      "outputs": [
        {
          "output_type": "execute_result",
          "data": {
            "text/plain": [
              "(3,)"
            ]
          },
          "metadata": {},
          "execution_count": 26
        }
      ]
    },
    {
      "cell_type": "code",
      "source": [
        "weights.dtype"
      ],
      "metadata": {
        "colab": {
          "base_uri": "https://localhost:8080/"
        },
        "id": "Wo0CxQTnKCa6",
        "outputId": "90db9665-01f7-4370-edec-03d9cdcaf568"
      },
      "execution_count": null,
      "outputs": [
        {
          "output_type": "execute_result",
          "data": {
            "text/plain": [
              "dtype('float64')"
            ]
          },
          "metadata": {},
          "execution_count": 27
        }
      ]
    },
    {
      "cell_type": "code",
      "source": [
        "climate_data.dtype"
      ],
      "metadata": {
        "colab": {
          "base_uri": "https://localhost:8080/"
        },
        "id": "XFjLzJtnKUZw",
        "outputId": "04ec163f-e27d-460a-e01f-0a5d75af756a"
      },
      "execution_count": null,
      "outputs": [
        {
          "output_type": "execute_result",
          "data": {
            "text/plain": [
              "dtype('int64')"
            ]
          },
          "metadata": {},
          "execution_count": 29
        }
      ]
    },
    {
      "cell_type": "code",
      "source": [
        "#in numpy arrays we can not use arrays as list only one type of datatype is allowed\n",
        "arr3 = np.array([\n",
        "    [[1,2,3],\n",
        "    [4,5,6],\n",
        "    [7,8,9]],[[1,2,3],\n",
        "    [4,5,6],\n",
        "    [7,8,9.82]]\n",
        "])\n",
        "arr3.dtype"
      ],
      "metadata": {
        "colab": {
          "base_uri": "https://localhost:8080/"
        },
        "id": "Rx0pG3tCKWyT",
        "outputId": "62a64839-db66-454f-b85c-a28e6d8677a8"
      },
      "execution_count": null,
      "outputs": [
        {
          "output_type": "execute_result",
          "data": {
            "text/plain": [
              "dtype('float64')"
            ]
          },
          "metadata": {},
          "execution_count": 30
        }
      ]
    },
    {
      "cell_type": "code",
      "source": [
        "print(arr3)"
      ],
      "metadata": {
        "colab": {
          "base_uri": "https://localhost:8080/"
        },
        "id": "--1Td5lYKxwb",
        "outputId": "0fa669ce-283c-4a4d-e04f-d5ad61d5ab40"
      },
      "execution_count": null,
      "outputs": [
        {
          "output_type": "stream",
          "name": "stdout",
          "text": [
            "[[[1.   2.   3.  ]\n",
            "  [4.   5.   6.  ]\n",
            "  [7.   8.   9.  ]]\n",
            "\n",
            " [[1.   2.   3.  ]\n",
            "  [4.   5.   6.  ]\n",
            "  [7.   8.   9.82]]]\n"
          ]
        }
      ]
    },
    {
      "cell_type": "code",
      "source": [
        "climate_data\n"
      ],
      "metadata": {
        "colab": {
          "base_uri": "https://localhost:8080/"
        },
        "id": "Aw1CnSVBKy5J",
        "outputId": "f3dfc8c0-8c69-40a7-c903-8fa88b19d7a6"
      },
      "execution_count": null,
      "outputs": [
        {
          "output_type": "execute_result",
          "data": {
            "text/plain": [
              "array([[ 73,  67,  43],\n",
              "       [ 91,  88,  64],\n",
              "       [ 87, 134,  58],\n",
              "       [102,  43,  37],\n",
              "       [ 69,  96,  70]])"
            ]
          },
          "metadata": {},
          "execution_count": 32
        }
      ]
    },
    {
      "cell_type": "code",
      "source": [
        "ans = np.matmul(climate_data,weights)\n",
        "print(ans)\n",
        "print(np.shape(climate_data))\n",
        "print(np.shape(weights))\n",
        "print(np.shape(ans))\n",
        "#"
      ],
      "metadata": {
        "colab": {
          "base_uri": "https://localhost:8080/"
        },
        "id": "6Rj3txiWK6br",
        "outputId": "7298f991-81a7-4093-ac3f-358a5fdcf23d"
      },
      "execution_count": null,
      "outputs": [
        {
          "output_type": "stream",
          "name": "stdout",
          "text": [
            "[56.8 76.9 81.9 57.7 74.9]\n",
            "(5, 3)\n",
            "(3,)\n",
            "(5,)\n"
          ]
        }
      ]
    },
    {
      "cell_type": "code",
      "source": [
        "climate_data @ weights"
      ],
      "metadata": {
        "colab": {
          "base_uri": "https://localhost:8080/"
        },
        "id": "iDsVIlasLDPz",
        "outputId": "e12ad7d5-d423-475a-d288-844b296962cc"
      },
      "execution_count": null,
      "outputs": [
        {
          "output_type": "execute_result",
          "data": {
            "text/plain": [
              "array([56.8, 76.9, 81.9, 57.7, 74.9])"
            ]
          },
          "metadata": {},
          "execution_count": 35
        }
      ]
    },
    {
      "cell_type": "code",
      "source": [
        "#Working with CSV files\n",
        "import urllib.request\n",
        "\n",
        "urllib.request.urlretrieve(\n",
        "    'https://gist.github.com/BirajCoder/a4ffcb76fd6fb221d76ac2ee2b8584e9/raw/4054f90adfd361b7aa4255e99c2e874664094cea/climate.csv',\n",
        "    'climate.txt')"
      ],
      "metadata": {
        "colab": {
          "base_uri": "https://localhost:8080/"
        },
        "id": "VTaBtndbLI2p",
        "outputId": "93c4eb2b-dd5e-4ee6-b1fd-b9a789585e8c"
      },
      "execution_count": null,
      "outputs": [
        {
          "output_type": "execute_result",
          "data": {
            "text/plain": [
              "('climate.txt', <http.client.HTTPMessage at 0x7dd6b6a5baf0>)"
            ]
          },
          "metadata": {},
          "execution_count": 36
        }
      ]
    },
    {
      "cell_type": "code",
      "source": [
        "climate_data = np.genfromtxt('climate.txt',delimiter=',',skip_header=1)"
      ],
      "metadata": {
        "id": "bWLaBbIpLT0V"
      },
      "execution_count": null,
      "outputs": []
    },
    {
      "cell_type": "code",
      "source": [
        "climate_data.shape"
      ],
      "metadata": {
        "colab": {
          "base_uri": "https://localhost:8080/"
        },
        "id": "Rx6kwB45LyKk",
        "outputId": "ad65d918-b09f-4af4-f4ea-9fe393cfcf5c"
      },
      "execution_count": null,
      "outputs": [
        {
          "output_type": "execute_result",
          "data": {
            "text/plain": [
              "(10000, 3)"
            ]
          },
          "metadata": {},
          "execution_count": 38
        }
      ]
    },
    {
      "cell_type": "code",
      "source": [
        "yeilds = climate_data @ weights"
      ],
      "metadata": {
        "id": "MHwu_dN7L0Um"
      },
      "execution_count": null,
      "outputs": []
    },
    {
      "cell_type": "code",
      "source": [
        "print(yeilds.shape)\n",
        "print(yeilds)"
      ],
      "metadata": {
        "colab": {
          "base_uri": "https://localhost:8080/"
        },
        "id": "VJx3coRVL5a2",
        "outputId": "ae6f7fae-d838-48bd-d056-95019c52d48f"
      },
      "execution_count": null,
      "outputs": [
        {
          "output_type": "stream",
          "name": "stdout",
          "text": [
            "(10000,)\n",
            "[72.2 59.7 65.2 ... 71.1 80.7 73.4]\n"
          ]
        }
      ]
    },
    {
      "cell_type": "code",
      "source": [
        "help(np.concatenate)"
      ],
      "metadata": {
        "colab": {
          "base_uri": "https://localhost:8080/"
        },
        "id": "_4b40eijL9yj",
        "outputId": "4c00a17d-c5a3-4f8d-bf4c-1b1492c88796"
      },
      "execution_count": null,
      "outputs": [
        {
          "output_type": "stream",
          "name": "stdout",
          "text": [
            "Help on _ArrayFunctionDispatcher in module numpy:\n",
            "\n",
            "concatenate(...)\n",
            "    concatenate((a1, a2, ...), axis=0, out=None, dtype=None, casting=\"same_kind\")\n",
            "    \n",
            "    Join a sequence of arrays along an existing axis.\n",
            "    \n",
            "    Parameters\n",
            "    ----------\n",
            "    a1, a2, ... : sequence of array_like\n",
            "        The arrays must have the same shape, except in the dimension\n",
            "        corresponding to `axis` (the first, by default).\n",
            "    axis : int, optional\n",
            "        The axis along which the arrays will be joined.  If axis is None,\n",
            "        arrays are flattened before use.  Default is 0.\n",
            "    out : ndarray, optional\n",
            "        If provided, the destination to place the result. The shape must be\n",
            "        correct, matching that of what concatenate would have returned if no\n",
            "        out argument were specified.\n",
            "    dtype : str or dtype\n",
            "        If provided, the destination array will have this dtype. Cannot be\n",
            "        provided together with `out`.\n",
            "    \n",
            "        .. versionadded:: 1.20.0\n",
            "    \n",
            "    casting : {'no', 'equiv', 'safe', 'same_kind', 'unsafe'}, optional\n",
            "        Controls what kind of data casting may occur. Defaults to 'same_kind'.\n",
            "    \n",
            "        .. versionadded:: 1.20.0\n",
            "    \n",
            "    Returns\n",
            "    -------\n",
            "    res : ndarray\n",
            "        The concatenated array.\n",
            "    \n",
            "    See Also\n",
            "    --------\n",
            "    ma.concatenate : Concatenate function that preserves input masks.\n",
            "    array_split : Split an array into multiple sub-arrays of equal or\n",
            "                  near-equal size.\n",
            "    split : Split array into a list of multiple sub-arrays of equal size.\n",
            "    hsplit : Split array into multiple sub-arrays horizontally (column wise).\n",
            "    vsplit : Split array into multiple sub-arrays vertically (row wise).\n",
            "    dsplit : Split array into multiple sub-arrays along the 3rd axis (depth).\n",
            "    stack : Stack a sequence of arrays along a new axis.\n",
            "    block : Assemble arrays from blocks.\n",
            "    hstack : Stack arrays in sequence horizontally (column wise).\n",
            "    vstack : Stack arrays in sequence vertically (row wise).\n",
            "    dstack : Stack arrays in sequence depth wise (along third dimension).\n",
            "    column_stack : Stack 1-D arrays as columns into a 2-D array.\n",
            "    \n",
            "    Notes\n",
            "    -----\n",
            "    When one or more of the arrays to be concatenated is a MaskedArray,\n",
            "    this function will return a MaskedArray object instead of an ndarray,\n",
            "    but the input masks are *not* preserved. In cases where a MaskedArray\n",
            "    is expected as input, use the ma.concatenate function from the masked\n",
            "    array module instead.\n",
            "    \n",
            "    Examples\n",
            "    --------\n",
            "    >>> a = np.array([[1, 2], [3, 4]])\n",
            "    >>> b = np.array([[5, 6]])\n",
            "    >>> np.concatenate((a, b), axis=0)\n",
            "    array([[1, 2],\n",
            "           [3, 4],\n",
            "           [5, 6]])\n",
            "    >>> np.concatenate((a, b.T), axis=1)\n",
            "    array([[1, 2, 5],\n",
            "           [3, 4, 6]])\n",
            "    >>> np.concatenate((a, b), axis=None)\n",
            "    array([1, 2, 3, 4, 5, 6])\n",
            "    \n",
            "    This function will not preserve masking of MaskedArray inputs.\n",
            "    \n",
            "    >>> a = np.ma.arange(3)\n",
            "    >>> a[1] = np.ma.masked\n",
            "    >>> b = np.arange(2, 5)\n",
            "    >>> a\n",
            "    masked_array(data=[0, --, 2],\n",
            "                 mask=[False,  True, False],\n",
            "           fill_value=999999)\n",
            "    >>> b\n",
            "    array([2, 3, 4])\n",
            "    >>> np.concatenate([a, b])\n",
            "    masked_array(data=[0, 1, 2, 2, 3, 4],\n",
            "                 mask=False,\n",
            "           fill_value=999999)\n",
            "    >>> np.ma.concatenate([a, b])\n",
            "    masked_array(data=[0, --, 2, 2, 3, 4],\n",
            "                 mask=[False,  True, False, False, False, False],\n",
            "           fill_value=999999)\n",
            "\n"
          ]
        }
      ]
    },
    {
      "cell_type": "code",
      "source": [
        "yeilds.reshape(10000,1)"
      ],
      "metadata": {
        "colab": {
          "base_uri": "https://localhost:8080/"
        },
        "id": "-BMFz1EDMT47",
        "outputId": "9955da5e-278d-4b11-9b3b-8a8f7c7d9a75"
      },
      "execution_count": null,
      "outputs": [
        {
          "output_type": "execute_result",
          "data": {
            "text/plain": [
              "array([[72.2],\n",
              "       [59.7],\n",
              "       [65.2],\n",
              "       ...,\n",
              "       [71.1],\n",
              "       [80.7],\n",
              "       [73.4]])"
            ]
          },
          "metadata": {},
          "execution_count": 43
        }
      ]
    },
    {
      "cell_type": "code",
      "source": [
        "climate_results=np.concatenate((climate_data,yeilds.reshape(10000,1)),axis=1)"
      ],
      "metadata": {
        "id": "pKmCX3MvM5MI"
      },
      "execution_count": null,
      "outputs": []
    },
    {
      "cell_type": "code",
      "source": [
        "np.savetxt('climate_results.txt',climate_results,fmt ='%.2f',delimiter = \",\",header='temp,rainfall,humidity,yeild_apples',comments='')"
      ],
      "metadata": {
        "id": "rUObGrH1NEvZ"
      },
      "execution_count": null,
      "outputs": []
    },
    {
      "cell_type": "markdown",
      "source": [
        "Numpy provides hundreds of functions for performing operations on arrays. Here are some commonly used functions:\n",
        "\n",
        "Mathematics: np.sum, np.exp, np.round, arithemtic operators\n",
        "Array manipulation: np.reshape, np.stack, np.concatenate, np.split\n",
        "Linear Algebra: np.matmul, np.dot, np.transpose, np.eigvals\n",
        "Statistics: np.mean, np.median, np.std, np.max"
      ],
      "metadata": {
        "id": "BGf0uFNeOFCO"
      }
    },
    {
      "cell_type": "markdown",
      "source": [
        "###Array Broadcasting\n",
        "Numpy arrays also support broadcasting, allowing arithmetic operations between two arrays with different numbers of dimensions but compatible shapes. Let's look at an example to see how it works.\n",
        "\n"
      ],
      "metadata": {
        "id": "u7xSUE6hOwAV"
      }
    },
    {
      "cell_type": "code",
      "source": [
        "arr2 = np.array([[1, 2, 3, 4],\n",
        "                 [5, 6, 7, 8],\n",
        "                 [9, 1, 2, 3]])"
      ],
      "metadata": {
        "id": "6s64NiCCNpBk"
      },
      "execution_count": null,
      "outputs": []
    },
    {
      "cell_type": "code",
      "source": [
        "arr2.shape"
      ],
      "metadata": {
        "colab": {
          "base_uri": "https://localhost:8080/"
        },
        "id": "fb8tIOGGO4q7",
        "outputId": "f15c044e-a051-41a0-8dc0-a348895e4868"
      },
      "execution_count": null,
      "outputs": [
        {
          "output_type": "execute_result",
          "data": {
            "text/plain": [
              "(3, 4)"
            ]
          },
          "metadata": {},
          "execution_count": 52
        }
      ]
    },
    {
      "cell_type": "code",
      "source": [
        "arr4 = np.array([4, 5, 6, 7])\n",
        "arr4.shape"
      ],
      "metadata": {
        "colab": {
          "base_uri": "https://localhost:8080/"
        },
        "id": "nRGo2IDnO7Q7",
        "outputId": "30e493e8-f578-4d06-c050-5832e1543549"
      },
      "execution_count": null,
      "outputs": [
        {
          "output_type": "execute_result",
          "data": {
            "text/plain": [
              "(4,)"
            ]
          },
          "metadata": {},
          "execution_count": 53
        }
      ]
    },
    {
      "cell_type": "code",
      "source": [
        "arr2 + arr4"
      ],
      "metadata": {
        "colab": {
          "base_uri": "https://localhost:8080/"
        },
        "id": "3iF_WkZlPBir",
        "outputId": "230e7515-ca40-4fa4-c3f6-5d40cb0a87ed"
      },
      "execution_count": null,
      "outputs": [
        {
          "output_type": "execute_result",
          "data": {
            "text/plain": [
              "array([[ 5,  7,  9, 11],\n",
              "       [ 9, 11, 13, 15],\n",
              "       [13,  6,  8, 10]])"
            ]
          },
          "metadata": {},
          "execution_count": 54
        }
      ]
    },
    {
      "cell_type": "markdown",
      "source": [
        "When the expression arr2 + arr4 is evaluated, arr4 (which has the shape (4,)) is replicated three times to match the shape (3, 4) of arr2. Numpy performs the replication without actually creating three copies of the smaller dimension array, thus improving performance and using lower memory.\n",
        "\n",
        "alt\n",
        "Broadcasting only works if one of the arrays can be replicated to match the other array's shape."
      ],
      "metadata": {
        "id": "wAYCejglPJgm"
      }
    },
    {
      "cell_type": "code",
      "source": [
        "arr1 = np.array([[1, 2, 3], [3, 4, 5]])\n",
        "arr2 = np.array([[2, 2, 3], [1, 2, 5]])"
      ],
      "metadata": {
        "id": "AkkgUouIPC9h"
      },
      "execution_count": null,
      "outputs": []
    },
    {
      "cell_type": "code",
      "source": [
        "arr1==arr2"
      ],
      "metadata": {
        "colab": {
          "base_uri": "https://localhost:8080/"
        },
        "id": "_rw7rd2uQy69",
        "outputId": "bb8bb290-6a08-47fb-b264-a1ff18c95020"
      },
      "execution_count": null,
      "outputs": [
        {
          "output_type": "execute_result",
          "data": {
            "text/plain": [
              "array([[False,  True,  True],\n",
              "       [False, False,  True]])"
            ]
          },
          "metadata": {},
          "execution_count": 56
        }
      ]
    },
    {
      "cell_type": "code",
      "source": [
        "arr1 != arr2"
      ],
      "metadata": {
        "colab": {
          "base_uri": "https://localhost:8080/"
        },
        "id": "HbuxLhS8Q1YY",
        "outputId": "4a4357b6-cd68-4fda-c03a-af72c8c43e48"
      },
      "execution_count": null,
      "outputs": [
        {
          "output_type": "execute_result",
          "data": {
            "text/plain": [
              "array([[ True, False, False],\n",
              "       [ True,  True, False]])"
            ]
          },
          "metadata": {},
          "execution_count": 57
        }
      ]
    },
    {
      "cell_type": "code",
      "source": [
        "arr1>=arr2"
      ],
      "metadata": {
        "colab": {
          "base_uri": "https://localhost:8080/"
        },
        "id": "5KisdunZQ66P",
        "outputId": "ad9d0e51-2327-4d1e-af0d-073a2edb0efa"
      },
      "execution_count": null,
      "outputs": [
        {
          "output_type": "execute_result",
          "data": {
            "text/plain": [
              "array([[False,  True,  True],\n",
              "       [ True,  True,  True]])"
            ]
          },
          "metadata": {},
          "execution_count": 58
        }
      ]
    },
    {
      "cell_type": "code",
      "source": [
        "np.sum(arr1==arr2)\n",
        "#this will tell ki kitne elements equal hain arr1 and arr2 mei element wise"
      ],
      "metadata": {
        "colab": {
          "base_uri": "https://localhost:8080/"
        },
        "id": "KzYy4sFOQ9a_",
        "outputId": "af04fb57-fe37-46d6-ea47-2bfefbf70427"
      },
      "execution_count": null,
      "outputs": [
        {
          "output_type": "execute_result",
          "data": {
            "text/plain": [
              "3"
            ]
          },
          "metadata": {},
          "execution_count": 59
        }
      ]
    },
    {
      "cell_type": "code",
      "source": [
        "(arr1==arr2).sum()"
      ],
      "metadata": {
        "colab": {
          "base_uri": "https://localhost:8080/"
        },
        "id": "ROSK2T3HRAwi",
        "outputId": "76fc03f1-d7ab-4f78-f80e-9ea3c3188525"
      },
      "execution_count": null,
      "outputs": [
        {
          "output_type": "execute_result",
          "data": {
            "text/plain": [
              "3"
            ]
          },
          "metadata": {},
          "execution_count": 60
        }
      ]
    },
    {
      "cell_type": "code",
      "source": [
        "#indexing and slicing in python multidimentsion list\n",
        "arr3 = np.array([\n",
        "    [[11, 12, 13, 14],\n",
        "     [13, 14, 15, 19]],\n",
        "\n",
        "    [[15, 16, 17, 21],\n",
        "     [63, 92, 36, 18]],\n",
        "\n",
        "    [[98, 32, 81, 23],\n",
        "     [17, 18, 19.5, 43]]])"
      ],
      "metadata": {
        "id": "lU3CqpLsRPgT"
      },
      "execution_count": null,
      "outputs": []
    },
    {
      "cell_type": "code",
      "source": [
        "arr3.shape\n"
      ],
      "metadata": {
        "colab": {
          "base_uri": "https://localhost:8080/"
        },
        "id": "4uFvrwwPSsCQ",
        "outputId": "f67acf9e-d3f3-43f4-a07c-ec15ef2730a1"
      },
      "execution_count": null,
      "outputs": [
        {
          "output_type": "execute_result",
          "data": {
            "text/plain": [
              "(3, 2, 4)"
            ]
          },
          "metadata": {},
          "execution_count": 62
        }
      ]
    },
    {
      "cell_type": "code",
      "source": [
        "arr3[1,1,2]"
      ],
      "metadata": {
        "colab": {
          "base_uri": "https://localhost:8080/"
        },
        "id": "mKIwSKzNSumc",
        "outputId": "e8bf9770-f330-4f7f-fe3f-512a239d2d3c"
      },
      "execution_count": null,
      "outputs": [
        {
          "output_type": "execute_result",
          "data": {
            "text/plain": [
              "36.0"
            ]
          },
          "metadata": {},
          "execution_count": 63
        }
      ]
    },
    {
      "cell_type": "code",
      "source": [
        "arr3[2,1,2]"
      ],
      "metadata": {
        "colab": {
          "base_uri": "https://localhost:8080/"
        },
        "id": "a81YJxAuS1CP",
        "outputId": "7c05c725-4bcd-41d9-f0ff-a6e6c2ecf78d"
      },
      "execution_count": null,
      "outputs": [
        {
          "output_type": "execute_result",
          "data": {
            "text/plain": [
              "19.5"
            ]
          },
          "metadata": {},
          "execution_count": 64
        }
      ]
    },
    {
      "cell_type": "code",
      "source": [
        "#subarray using range\n",
        "arr3"
      ],
      "metadata": {
        "id": "MMqLeqgLTBvl"
      },
      "execution_count": null,
      "outputs": []
    },
    {
      "cell_type": "code",
      "source": [
        "arr3[1:,0:1,:2]"
      ],
      "metadata": {
        "id": "T7MfqGvGTGJZ",
        "colab": {
          "base_uri": "https://localhost:8080/"
        },
        "outputId": "145b82d8-c20c-417d-d493-f1c40ca793d9"
      },
      "execution_count": 65,
      "outputs": [
        {
          "output_type": "execute_result",
          "data": {
            "text/plain": [
              "array([[[15., 16.]],\n",
              "\n",
              "       [[98., 32.]]])"
            ]
          },
          "metadata": {},
          "execution_count": 65
        }
      ]
    },
    {
      "cell_type": "code",
      "source": [
        "#mixing indexes and ranges\n",
        "arr3[1:,1,3]"
      ],
      "metadata": {
        "id": "Y94ENLAOTKgQ",
        "colab": {
          "base_uri": "https://localhost:8080/"
        },
        "outputId": "50e20fb3-cb4f-4ae0-dbbf-16af0cc3e226"
      },
      "execution_count": 66,
      "outputs": [
        {
          "output_type": "execute_result",
          "data": {
            "text/plain": [
              "array([18., 43.])"
            ]
          },
          "metadata": {},
          "execution_count": 66
        }
      ]
    },
    {
      "cell_type": "code",
      "source": [
        "arr3[1]"
      ],
      "metadata": {
        "colab": {
          "base_uri": "https://localhost:8080/"
        },
        "id": "mNIuWMGNUq9E",
        "outputId": "161b466b-53d3-4e65-cea4-1b905c44854e"
      },
      "execution_count": 67,
      "outputs": [
        {
          "output_type": "execute_result",
          "data": {
            "text/plain": [
              "array([[15., 16., 17., 21.],\n",
              "       [63., 92., 36., 18.]])"
            ]
          },
          "metadata": {},
          "execution_count": 67
        }
      ]
    },
    {
      "cell_type": "code",
      "source": [
        "arr3[:2,1]"
      ],
      "metadata": {
        "colab": {
          "base_uri": "https://localhost:8080/"
        },
        "id": "U-vFrDJlU5WF",
        "outputId": "b01e34c3-e027-4c1a-fb03-1d01184b5c85"
      },
      "execution_count": 68,
      "outputs": [
        {
          "output_type": "execute_result",
          "data": {
            "text/plain": [
              "array([[13., 14., 15., 19.],\n",
              "       [63., 92., 36., 18.]])"
            ]
          },
          "metadata": {},
          "execution_count": 68
        }
      ]
    },
    {
      "cell_type": "code",
      "source": [
        "#other ways of creating nuympy arrays\n",
        "np.zeros((3,2))"
      ],
      "metadata": {
        "colab": {
          "base_uri": "https://localhost:8080/"
        },
        "id": "-K3qlE2tU-hX",
        "outputId": "1800d5eb-8e31-4a78-aed5-87c120872c42"
      },
      "execution_count": 69,
      "outputs": [
        {
          "output_type": "execute_result",
          "data": {
            "text/plain": [
              "array([[0., 0.],\n",
              "       [0., 0.],\n",
              "       [0., 0.]])"
            ]
          },
          "metadata": {},
          "execution_count": 69
        }
      ]
    },
    {
      "cell_type": "code",
      "source": [
        "np.ones([2,2,3])"
      ],
      "metadata": {
        "colab": {
          "base_uri": "https://localhost:8080/"
        },
        "id": "56APzorjVMMR",
        "outputId": "d5a9acd0-8db1-4f9b-b238-b7dada9b6d0f"
      },
      "execution_count": 72,
      "outputs": [
        {
          "output_type": "execute_result",
          "data": {
            "text/plain": [
              "array([[[1., 1., 1.],\n",
              "        [1., 1., 1.]],\n",
              "\n",
              "       [[1., 1., 1.],\n",
              "        [1., 1., 1.]]])"
            ]
          },
          "metadata": {},
          "execution_count": 72
        }
      ]
    },
    {
      "cell_type": "code",
      "source": [
        " np.eye(3)"
      ],
      "metadata": {
        "colab": {
          "base_uri": "https://localhost:8080/"
        },
        "id": "q8NhGK-7VOQp",
        "outputId": "561c088a-f7bf-4c97-f0a0-a12bd56bab1a"
      },
      "execution_count": 73,
      "outputs": [
        {
          "output_type": "execute_result",
          "data": {
            "text/plain": [
              "array([[1., 0., 0.],\n",
              "       [0., 1., 0.],\n",
              "       [0., 0., 1.]])"
            ]
          },
          "metadata": {},
          "execution_count": 73
        }
      ]
    },
    {
      "cell_type": "code",
      "source": [
        "np.random.rand(5)"
      ],
      "metadata": {
        "colab": {
          "base_uri": "https://localhost:8080/"
        },
        "id": "_6lHsqGxVZzU",
        "outputId": "ac4651d8-55e5-4bfe-9a17-3c3f3a048738"
      },
      "execution_count": 74,
      "outputs": [
        {
          "output_type": "execute_result",
          "data": {
            "text/plain": [
              "array([0.94965201, 0.58255929, 0.05870459, 0.85480228, 0.49043831])"
            ]
          },
          "metadata": {},
          "execution_count": 74
        }
      ]
    },
    {
      "cell_type": "code",
      "source": [
        "np.random.randn(2,3)"
      ],
      "metadata": {
        "colab": {
          "base_uri": "https://localhost:8080/"
        },
        "id": "pBEnme6rVbVG",
        "outputId": "7b009d81-08a4-4cb5-ef42-996bf79d3be1"
      },
      "execution_count": 77,
      "outputs": [
        {
          "output_type": "execute_result",
          "data": {
            "text/plain": [
              "array([[ 0.85116577,  0.47009416,  0.8875189 ],\n",
              "       [ 0.01401133, -0.69000684, -0.0723573 ]])"
            ]
          },
          "metadata": {},
          "execution_count": 77
        }
      ]
    },
    {
      "cell_type": "code",
      "source": [
        "np.arange(10,90,3)"
      ],
      "metadata": {
        "colab": {
          "base_uri": "https://localhost:8080/"
        },
        "id": "_VF_cELyViCJ",
        "outputId": "e5f59111-d1d0-4b2a-8ffd-b219f7dfd68a"
      },
      "execution_count": 78,
      "outputs": [
        {
          "output_type": "execute_result",
          "data": {
            "text/plain": [
              "array([10, 13, 16, 19, 22, 25, 28, 31, 34, 37, 40, 43, 46, 49, 52, 55, 58,\n",
              "       61, 64, 67, 70, 73, 76, 79, 82, 85, 88])"
            ]
          },
          "metadata": {},
          "execution_count": 78
        }
      ]
    },
    {
      "cell_type": "code",
      "source": [
        "np.linspace(3,27,9)"
      ],
      "metadata": {
        "colab": {
          "base_uri": "https://localhost:8080/"
        },
        "id": "1F1YnKTKV1_9",
        "outputId": "3831deaf-2ed7-4b56-b6c4-14f10d17e5a0"
      },
      "execution_count": 79,
      "outputs": [
        {
          "output_type": "execute_result",
          "data": {
            "text/plain": [
              "array([ 3.,  6.,  9., 12., 15., 18., 21., 24., 27.])"
            ]
          },
          "metadata": {},
          "execution_count": 79
        }
      ]
    },
    {
      "cell_type": "code",
      "source": [],
      "metadata": {
        "id": "-4ok9Hb5V7ti"
      },
      "execution_count": null,
      "outputs": []
    }
  ]
}